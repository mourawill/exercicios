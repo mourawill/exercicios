{
 "cells": [
  {
   "cell_type": "code",
   "execution_count": 20,
   "metadata": {
    "collapsed": false
   },
   "outputs": [],
   "source": [
    "import json\n",
    "from tweepy.streaming import StreamListener\n",
    "from tweepy import OAuthHandler\n",
    "from tweepy import Stream\n",
    "from datetime import datetime\n",
    "from pymongo import MongoClient\n",
    "import pandas as pd\n",
    "\n",
    "consumer_key = 'egyd3LlfX4ZMgWQ0WXkWHx3XK'\n",
    "consumer_secret = 'KVlAQxQ2MscMfeaospkECq5mhglbbxa5bTtfsH5LoE2JAQVIEw'\n",
    "access_token = '21212913-Me6u6Rb6eZYXh7T144HBFdH3gnWOTniOMrzMlsqCa'\n",
    "access_token_secret = 'mkXbYoX94hGyy2fGbTbd6JWp6LcdXn0ikCaStEoKPk7dx'\n",
    " \n",
    "# OAuth process, using the keys and tokens\n",
    "auth = tweepy.OAuthHandler(consumer_key, consumer_secret)\n",
    "auth.set_access_token(access_token, access_token_secret)\n",
    "\n",
    "\n",
    "class Mylistener(StreamListener):\n",
    "    def on_data(self,dados):\n",
    "        tweet = json.loads(dados)\n",
    "        created_at = tweet[\"created_at\"]\n",
    "        id_str = tweet[\"id_str\"]\n",
    "        text = tweet[\"text\"]\n",
    "        obj = {\"created_at\": created_at,\"id_str\":id_str,\"text\":text,}\n",
    "        tweetind = col.insert_one(obj).inserted_id\n",
    "        print(obj)\n",
    "        return True\n",
    "    "
   ]
  },
  {
   "cell_type": "code",
   "execution_count": 7,
   "metadata": {
    "collapsed": true
   },
   "outputs": [],
   "source": [
    "myListener = Mylistener()"
   ]
  },
  {
   "cell_type": "code",
   "execution_count": 8,
   "metadata": {
    "collapsed": false
   },
   "outputs": [],
   "source": [
    "mystream = Stream(auth, listener = myListener)"
   ]
  },
  {
   "cell_type": "code",
   "execution_count": 10,
   "metadata": {
    "collapsed": true
   },
   "outputs": [],
   "source": [
    "client = MongoClient('localhost',27017)"
   ]
  },
  {
   "cell_type": "code",
   "execution_count": 12,
   "metadata": {
    "collapsed": false
   },
   "outputs": [],
   "source": [
    "db = client.twitterdb"
   ]
  },
  {
   "cell_type": "code",
   "execution_count": 13,
   "metadata": {
    "collapsed": false
   },
   "outputs": [],
   "source": [
    "col = db.tweets"
   ]
  },
  {
   "cell_type": "code",
   "execution_count": 14,
   "metadata": {
    "collapsed": true
   },
   "outputs": [],
   "source": [
    "keywords = ['galo','ufc']"
   ]
  },
  {
   "cell_type": "code",
   "execution_count": 15,
   "metadata": {
    "collapsed": false
   },
   "outputs": [
    {
     "name": "stdout",
     "output_type": "stream",
     "text": [
      "{'created_at': 'Wed Oct 19 02:10:37 +0000 2016', '_id': ObjectId('5806d61de13823086fa8ed34'), 'text': \"RT @dvilela13: Bora subir TT's \\n\\nHoje tem Galo\", 'id_str': '788562968116129792'}\n",
      "{'created_at': 'Wed Oct 19 02:10:38 +0000 2016', '_id': ObjectId('5806d61ee13823086fa8ed35'), 'text': 'RT @matheus13fag: Hoje não Posso, Hoje tem Jogo Do Galo!!👏💪🐔', 'id_str': '788562972901867520'}\n",
      "{'created_at': 'Wed Oct 19 02:10:38 +0000 2016', '_id': ObjectId('5806d61ee13823086fa8ed36'), 'text': 'RT @_GaloDoido_: HOJE TEM GALO! Classificar é fundamental. A maior chance de título no ano é a Copa do Brasil, então vamos em busca!', 'id_str': '788562974235619329'}\n",
      "{'created_at': 'Wed Oct 19 02:10:38 +0000 2016', '_id': ObjectId('5806d61ee13823086fa8ed37'), 'text': 'stileira do galo hj em dia é surreal', 'id_str': '788562974369845248'}\n",
      "{'created_at': 'Wed Oct 19 02:10:38 +0000 2016', '_id': ObjectId('5806d61ee13823086fa8ed38'), 'text': 'RT @Gabriel_bran: HOJE TEM GALO, CARALHO!!', 'id_str': '788562974675968000'}\n",
      "{'created_at': 'Wed Oct 19 02:10:38 +0000 2016', '_id': ObjectId('5806d61fe13823086fa8ed39'), 'text': 'RT @SomosDeporteSN: #UFC Ronda Rousey volverá al ruedo. El próximo 30 de diciembre regresará y peleará ante Amanda Nunes.', 'id_str': '788562975451996161'}\n",
      "{'created_at': 'Wed Oct 19 02:10:39 +0000 2016', '_id': ObjectId('5806d61fe13823086fa8ed3a'), 'text': 'RT @lucasgermano94: Hoje tem GALO... Mas se jogar o mesmo primeiro tempo como foi contra o Botafogo vocês podem escrever: VAI SER ELIMINADO…', 'id_str': '788562977809108992'}\n",
      "{'created_at': 'Wed Oct 19 02:10:41 +0000 2016', '_id': ObjectId('5806d621e13823086fa8ed3b'), 'text': 'RT @juubssm: Hoje tem galo', 'id_str': '788562985228861440'}\n",
      "{'created_at': 'Wed Oct 19 02:10:42 +0000 2016', '_id': ObjectId('5806d622e13823086fa8ed3c'), 'text': 'RT @ALE_PARMERA99: Hoje tem galo pé e muita cerveja, na Confraria Palestrina.', 'id_str': '788562990312386560'}\n",
      "{'created_at': 'Wed Oct 19 02:10:42 +0000 2016', '_id': ObjectId('5806d622e13823086fa8ed3d'), 'text': 'Dern Won By RNC. #fight #legacy #legends #warriors #gladiators #ufc #wmma #bjj #… https://t.co/NEn1y24sc9 https://t.co/0GK7d7Vh8z', 'id_str': '788562990463234050'}\n",
      "{'created_at': 'Wed Oct 19 02:10:45 +0000 2016', '_id': ObjectId('5806d625e13823086fa8ed3e'), 'text': 'RT @leonamalfredo: Feliz porque hoje tem Galo 🙏🏼❤️🐔', 'id_str': '788563002282868736'}\n",
      "{'created_at': 'Wed Oct 19 02:10:45 +0000 2016', '_id': ObjectId('5806d625e13823086fa8ed3f'), 'text': 'RT @melmmcs: Cada um tem o Cristo que merece: Crivella negou o Garotinho três vezes antes do galo cantar!\\n#Freixo50 #FreixoNaRedeTV', 'id_str': '788563002379337728'}\n",
      "{'created_at': 'Wed Oct 19 02:10:45 +0000 2016', '_id': ObjectId('5806d625e13823086fa8ed40'), 'text': 'TL em dia de jogo do Galo ❤️', 'id_str': '788563003587358720'}\n",
      "{'created_at': 'Wed Oct 19 02:10:46 +0000 2016', '_id': ObjectId('5806d626e13823086fa8ed41'), 'text': 'RT @dabzeiro777: O IMPORTANTE É QUE HOJE TEM GALO CARAAIOOOOO !!!', 'id_str': '788563006825390081'}\n",
      "{'created_at': 'Wed Oct 19 02:10:46 +0000 2016', '_id': ObjectId('5806d626e13823086fa8ed42'), 'text': 'RT @millerjunio: HOJE TEM GALO POHA 🐓⚫⚪', 'id_str': '788563007311843328'}\n",
      "{'created_at': 'Wed Oct 19 02:10:47 +0000 2016', '_id': ObjectId('5806d627e13823086fa8ed43'), 'text': 'RT @UFCONFOX: Dana White says Ronda Rousey vs. Cris Cyborg will still be the biggest fight in UFC history\\nhttps://t.co/HSs25N1ke3… ', 'id_str': '788563011095105536'}\n",
      "{'created_at': 'Wed Oct 19 02:10:48 +0000 2016', '_id': ObjectId('5806d628e13823086fa8ed44'), 'text': 'RT @anninhatorres_: HOJE TEM GALO NENÉM', 'id_str': '788563014953959424'}\n",
      "{'created_at': 'Wed Oct 19 02:10:50 +0000 2016', '_id': ObjectId('5806d62ae13823086fa8ed45'), 'text': 'RT @guimbaherinque: Hoje tem Galo', 'id_str': '788563025439621120'}\n",
      "{'created_at': 'Wed Oct 19 02:10:50 +0000 2016', '_id': ObjectId('5806d62be13823086fa8ed46'), 'text': 'RT @Minellegalo13: Eu dormindo...Hoje tem GALO!!!🐓 https://t.co/f8bJm8oSla', 'id_str': '788563025708118016'}\n",
      "{'created_at': 'Wed Oct 19 02:10:50 +0000 2016', '_id': ObjectId('5806d62be13823086fa8ed47'), 'text': 'RT @Robin_hlm: HOJE TEM GALO NENÉM ❤🐓🎈⚽', 'id_str': '788563026328883200'}\n",
      "{'created_at': 'Wed Oct 19 02:10:51 +0000 2016', '_id': ObjectId('5806d62ce13823086fa8ed48'), 'text': 'RT @millerjunio: HOJE TEM GALO POHA 🐓⚫⚪', 'id_str': '788563030682529792'}\n",
      "{'created_at': 'Wed Oct 19 02:10:53 +0000 2016', '_id': ObjectId('5806d62de13823086fa8ed49'), 'text': 'RT @theus1908: HOJE TEM GALO NOIS TÁ FELIZ POR DEMAIS', 'id_str': '788563035162079232'}\n",
      "{'created_at': 'Wed Oct 19 02:10:53 +0000 2016', '_id': ObjectId('5806d62de13823086fa8ed4a'), 'text': 'If Rhonda beats Nunez, because if she loses expect another disappearing act. #ufc #mma https://t.co/ZyIQ2aPzHb', 'id_str': '788563036579790852'}\n",
      "{'created_at': 'Wed Oct 19 02:10:54 +0000 2016', '_id': ObjectId('5806d62ee13823086fa8ed4b'), 'text': 'Qnd eu era menor era cada ufc c minha irmã mais velha hj n sei quem tem mais dor', 'id_str': '788563040161718273'}\n",
      "{'created_at': 'Wed Oct 19 02:10:55 +0000 2016', '_id': ObjectId('5806d62fe13823086fa8ed4c'), 'text': 'RT @APaaauli: Hágalo por su salud:\\n          DEJE DE SUPONER', 'id_str': '788563045492588544'}\n",
      "{'created_at': 'Wed Oct 19 02:10:56 +0000 2016', '_id': ObjectId('5806d630e13823086fa8ed4d'), 'text': '@PastorMalafaia hoje tem #Galo', 'id_str': '788563049170997249'}\n",
      "{'created_at': 'Wed Oct 19 02:10:57 +0000 2016', '_id': ObjectId('5806d631e13823086fa8ed4e'), 'text': 'RT @alynenbarbosa: Hoje tem Galo  ❤', 'id_str': '788563054187442176'}\n",
      "{'created_at': 'Wed Oct 19 02:10:57 +0000 2016', '_id': ObjectId('5806d631e13823086fa8ed4f'), 'text': 'RT @dvilela13: Hoje tem Galo !!!!!!!!', 'id_str': '788563054564876288'}\n",
      "{'created_at': 'Wed Oct 19 02:10:59 +0000 2016', '_id': ObjectId('5806d633e13823086fa8ed50'), 'text': \"RT @ufc: What's a card in Sacramento without The California Kid?! @UrijahFaber meets @One_Punch at #UFCSacramento ➡️… \", 'id_str': '788563061468573696'}\n",
      "{'created_at': 'Wed Oct 19 02:10:59 +0000 2016', '_id': ObjectId('5806d633e13823086fa8ed51'), 'text': 'RT @uainandaa: hoje tem Galo e nada mais importa, à não ser a classificação', 'id_str': '788563062412509184'}\n",
      "{'created_at': 'Wed Oct 19 02:10:59 +0000 2016', '_id': ObjectId('5806d634e13823086fa8ed52'), 'text': '#놀며돈벌기［#돈빨리모으는방법］［#인터넷슬롯머신］［#필리핀자유여행］［#증권회사］ #시장위험 ［#삼성선물자소서］［#에이스갤러퍼］ ［#ufc실시간중계］앉아휘경', 'id_str': '788563063465058304'}\n",
      "{'created_at': 'Wed Oct 19 02:10:59 +0000 2016', '_id': ObjectId('5806d634e13823086fa8ed53'), 'text': 'RT @Larissa_vcd: Hoje tem Galo, porra!!! #VamuGalo 🐔🙏🏻', 'id_str': '788563063721066496'}\n",
      "{'created_at': 'Wed Oct 19 02:11:01 +0000 2016', '_id': ObjectId('5806d635e13823086fa8ed54'), 'text': 'RT @BrunoChain13: E hoje tem Galo, Brother, e é isso que importa!', 'id_str': '788563070083796992'}\n",
      "{'created_at': 'Wed Oct 19 02:11:01 +0000 2016', '_id': ObjectId('5806d635e13823086fa8ed55'), 'text': 'RT @ind_peres01: Abençoado seja o CLUBE ATLÉTICO MINEIRO 🐓❤ HOJE TEM GALO BB', 'id_str': '788563070616559616'}\n",
      "{'created_at': 'Wed Oct 19 02:11:01 +0000 2016', '_id': ObjectId('5806d636e13823086fa8ed56'), 'text': 'RT @gabriel_lessa13: Hj tem Galo e nois ta como  #VamuGalo🐔🙏🏽 https://t.co/4200HoKHhb', 'id_str': '788563071417651200'}\n",
      "{'created_at': 'Wed Oct 19 02:11:02 +0000 2016', '_id': ObjectId('5806d636e13823086fa8ed57'), 'text': '@Huevanator @ufc .l. vete ala verga @Huevanator', 'id_str': '788563073531469824'}\n",
      "{'created_at': 'Wed Oct 19 02:11:02 +0000 2016', '_id': ObjectId('5806d636e13823086fa8ed58'), 'text': 'RT @itscartola: HOJE TEM GALO ! 🐔❤️😍', 'id_str': '788563075049877504'}\n",
      "{'created_at': 'Wed Oct 19 02:11:02 +0000 2016', '_id': ObjectId('5806d636e13823086fa8ed59'), 'text': 'RT @Dudinhah13: HOJE TEM GALO 🙌❤🐓🙏', 'id_str': '788563075603505152'}\n"
     ]
    },
    {
     "ename": "KeyboardInterrupt",
     "evalue": "",
     "output_type": "error",
     "traceback": [
      "\u001b[0;31m---------------------------------------------------------------------------\u001b[0m",
      "\u001b[0;31mKeyboardInterrupt\u001b[0m                         Traceback (most recent call last)",
      "\u001b[0;32m<ipython-input-15-a590c42d0479>\u001b[0m in \u001b[0;36m<module>\u001b[0;34m()\u001b[0m\n\u001b[0;32m----> 1\u001b[0;31m \u001b[0mmystream\u001b[0m\u001b[0;34m.\u001b[0m\u001b[0mfilter\u001b[0m\u001b[0;34m(\u001b[0m\u001b[0mtrack\u001b[0m \u001b[0;34m=\u001b[0m \u001b[0mkeywords\u001b[0m\u001b[0;34m)\u001b[0m\u001b[0;34m\u001b[0m\u001b[0m\n\u001b[0m",
      "\u001b[0;32m/home/desenvolvedor/anaconda3/lib/python3.5/site-packages/tweepy/streaming.py\u001b[0m in \u001b[0;36mfilter\u001b[0;34m(self, follow, track, async, locations, stall_warnings, languages, encoding, filter_level)\u001b[0m\n\u001b[1;32m    443\u001b[0m         \u001b[0mself\u001b[0m\u001b[0;34m.\u001b[0m\u001b[0msession\u001b[0m\u001b[0;34m.\u001b[0m\u001b[0mparams\u001b[0m \u001b[0;34m=\u001b[0m \u001b[0;34m{\u001b[0m\u001b[0;34m'delimited'\u001b[0m\u001b[0;34m:\u001b[0m \u001b[0;34m'length'\u001b[0m\u001b[0;34m}\u001b[0m\u001b[0;34m\u001b[0m\u001b[0m\n\u001b[1;32m    444\u001b[0m         \u001b[0mself\u001b[0m\u001b[0;34m.\u001b[0m\u001b[0mhost\u001b[0m \u001b[0;34m=\u001b[0m \u001b[0;34m'stream.twitter.com'\u001b[0m\u001b[0;34m\u001b[0m\u001b[0m\n\u001b[0;32m--> 445\u001b[0;31m         \u001b[0mself\u001b[0m\u001b[0;34m.\u001b[0m\u001b[0m_start\u001b[0m\u001b[0;34m(\u001b[0m\u001b[0masync\u001b[0m\u001b[0;34m)\u001b[0m\u001b[0;34m\u001b[0m\u001b[0m\n\u001b[0m\u001b[1;32m    446\u001b[0m \u001b[0;34m\u001b[0m\u001b[0m\n\u001b[1;32m    447\u001b[0m     def sitestream(self, follow, stall_warnings=False,\n",
      "\u001b[0;32m/home/desenvolvedor/anaconda3/lib/python3.5/site-packages/tweepy/streaming.py\u001b[0m in \u001b[0;36m_start\u001b[0;34m(self, async)\u001b[0m\n\u001b[1;32m    359\u001b[0m             \u001b[0mself\u001b[0m\u001b[0;34m.\u001b[0m\u001b[0m_thread\u001b[0m\u001b[0;34m.\u001b[0m\u001b[0mstart\u001b[0m\u001b[0;34m(\u001b[0m\u001b[0;34m)\u001b[0m\u001b[0;34m\u001b[0m\u001b[0m\n\u001b[1;32m    360\u001b[0m         \u001b[0;32melse\u001b[0m\u001b[0;34m:\u001b[0m\u001b[0;34m\u001b[0m\u001b[0m\n\u001b[0;32m--> 361\u001b[0;31m             \u001b[0mself\u001b[0m\u001b[0;34m.\u001b[0m\u001b[0m_run\u001b[0m\u001b[0;34m(\u001b[0m\u001b[0;34m)\u001b[0m\u001b[0;34m\u001b[0m\u001b[0m\n\u001b[0m\u001b[1;32m    362\u001b[0m \u001b[0;34m\u001b[0m\u001b[0m\n\u001b[1;32m    363\u001b[0m     \u001b[0;32mdef\u001b[0m \u001b[0mon_closed\u001b[0m\u001b[0;34m(\u001b[0m\u001b[0mself\u001b[0m\u001b[0;34m,\u001b[0m \u001b[0mresp\u001b[0m\u001b[0;34m)\u001b[0m\u001b[0;34m:\u001b[0m\u001b[0;34m\u001b[0m\u001b[0m\n",
      "\u001b[0;32m/home/desenvolvedor/anaconda3/lib/python3.5/site-packages/tweepy/streaming.py\u001b[0m in \u001b[0;36m_run\u001b[0;34m(self)\u001b[0m\n\u001b[1;32m    261\u001b[0m                     \u001b[0mself\u001b[0m\u001b[0;34m.\u001b[0m\u001b[0msnooze_time\u001b[0m \u001b[0;34m=\u001b[0m \u001b[0mself\u001b[0m\u001b[0;34m.\u001b[0m\u001b[0msnooze_time_step\u001b[0m\u001b[0;34m\u001b[0m\u001b[0m\n\u001b[1;32m    262\u001b[0m                     \u001b[0mself\u001b[0m\u001b[0;34m.\u001b[0m\u001b[0mlistener\u001b[0m\u001b[0;34m.\u001b[0m\u001b[0mon_connect\u001b[0m\u001b[0;34m(\u001b[0m\u001b[0;34m)\u001b[0m\u001b[0;34m\u001b[0m\u001b[0m\n\u001b[0;32m--> 263\u001b[0;31m                     \u001b[0mself\u001b[0m\u001b[0;34m.\u001b[0m\u001b[0m_read_loop\u001b[0m\u001b[0;34m(\u001b[0m\u001b[0mresp\u001b[0m\u001b[0;34m)\u001b[0m\u001b[0;34m\u001b[0m\u001b[0m\n\u001b[0m\u001b[1;32m    264\u001b[0m             \u001b[0;32mexcept\u001b[0m \u001b[0;34m(\u001b[0m\u001b[0mTimeout\u001b[0m\u001b[0;34m,\u001b[0m \u001b[0mssl\u001b[0m\u001b[0;34m.\u001b[0m\u001b[0mSSLError\u001b[0m\u001b[0;34m)\u001b[0m \u001b[0;32mas\u001b[0m \u001b[0mexc\u001b[0m\u001b[0;34m:\u001b[0m\u001b[0;34m\u001b[0m\u001b[0m\n\u001b[1;32m    265\u001b[0m                 \u001b[0;31m# This is still necessary, as a SSLError can actually be\u001b[0m\u001b[0;34m\u001b[0m\u001b[0;34m\u001b[0m\u001b[0m\n",
      "\u001b[0;32m/home/desenvolvedor/anaconda3/lib/python3.5/site-packages/tweepy/streaming.py\u001b[0m in \u001b[0;36m_read_loop\u001b[0;34m(self, resp)\u001b[0m\n\u001b[1;32m    311\u001b[0m             \u001b[0mlength\u001b[0m \u001b[0;34m=\u001b[0m \u001b[0;36m0\u001b[0m\u001b[0;34m\u001b[0m\u001b[0m\n\u001b[1;32m    312\u001b[0m             \u001b[0;32mwhile\u001b[0m \u001b[0;32mnot\u001b[0m \u001b[0mresp\u001b[0m\u001b[0;34m.\u001b[0m\u001b[0mraw\u001b[0m\u001b[0;34m.\u001b[0m\u001b[0mclosed\u001b[0m\u001b[0;34m:\u001b[0m\u001b[0;34m\u001b[0m\u001b[0m\n\u001b[0;32m--> 313\u001b[0;31m                 \u001b[0mline\u001b[0m \u001b[0;34m=\u001b[0m \u001b[0mbuf\u001b[0m\u001b[0;34m.\u001b[0m\u001b[0mread_line\u001b[0m\u001b[0;34m(\u001b[0m\u001b[0;34m)\u001b[0m\u001b[0;34m.\u001b[0m\u001b[0mstrip\u001b[0m\u001b[0;34m(\u001b[0m\u001b[0;34m)\u001b[0m\u001b[0;34m\u001b[0m\u001b[0m\n\u001b[0m\u001b[1;32m    314\u001b[0m                 \u001b[0;32mif\u001b[0m \u001b[0;32mnot\u001b[0m \u001b[0mline\u001b[0m\u001b[0;34m:\u001b[0m\u001b[0;34m\u001b[0m\u001b[0m\n\u001b[1;32m    315\u001b[0m                     \u001b[0mself\u001b[0m\u001b[0;34m.\u001b[0m\u001b[0mlistener\u001b[0m\u001b[0;34m.\u001b[0m\u001b[0mkeep_alive\u001b[0m\u001b[0;34m(\u001b[0m\u001b[0;34m)\u001b[0m  \u001b[0;31m# keep-alive new lines are expected\u001b[0m\u001b[0;34m\u001b[0m\u001b[0m\n",
      "\u001b[0;32m/home/desenvolvedor/anaconda3/lib/python3.5/site-packages/tweepy/streaming.py\u001b[0m in \u001b[0;36mread_line\u001b[0;34m(self, sep)\u001b[0m\n\u001b[1;32m    177\u001b[0m             \u001b[0;32melse\u001b[0m\u001b[0;34m:\u001b[0m\u001b[0;34m\u001b[0m\u001b[0m\n\u001b[1;32m    178\u001b[0m                 \u001b[0mstart\u001b[0m \u001b[0;34m=\u001b[0m \u001b[0mlen\u001b[0m\u001b[0;34m(\u001b[0m\u001b[0mself\u001b[0m\u001b[0;34m.\u001b[0m\u001b[0m_buffer\u001b[0m\u001b[0;34m)\u001b[0m\u001b[0;34m\u001b[0m\u001b[0m\n\u001b[0;32m--> 179\u001b[0;31m             \u001b[0mself\u001b[0m\u001b[0;34m.\u001b[0m\u001b[0m_buffer\u001b[0m \u001b[0;34m+=\u001b[0m \u001b[0mself\u001b[0m\u001b[0;34m.\u001b[0m\u001b[0m_stream\u001b[0m\u001b[0;34m.\u001b[0m\u001b[0mread\u001b[0m\u001b[0;34m(\u001b[0m\u001b[0mself\u001b[0m\u001b[0;34m.\u001b[0m\u001b[0m_chunk_size\u001b[0m\u001b[0;34m)\u001b[0m\u001b[0;34m\u001b[0m\u001b[0m\n\u001b[0m\u001b[1;32m    180\u001b[0m \u001b[0;34m\u001b[0m\u001b[0m\n\u001b[1;32m    181\u001b[0m     \u001b[0;32mdef\u001b[0m \u001b[0m_pop\u001b[0m\u001b[0;34m(\u001b[0m\u001b[0mself\u001b[0m\u001b[0;34m,\u001b[0m \u001b[0mlength\u001b[0m\u001b[0;34m)\u001b[0m\u001b[0;34m:\u001b[0m\u001b[0;34m\u001b[0m\u001b[0m\n",
      "\u001b[0;32m/home/desenvolvedor/anaconda3/lib/python3.5/site-packages/requests/packages/urllib3/response.py\u001b[0m in \u001b[0;36mread\u001b[0;34m(self, amt, decode_content, cache_content)\u001b[0m\n\u001b[1;32m    312\u001b[0m             \u001b[0;32melse\u001b[0m\u001b[0;34m:\u001b[0m\u001b[0;34m\u001b[0m\u001b[0m\n\u001b[1;32m    313\u001b[0m                 \u001b[0mcache_content\u001b[0m \u001b[0;34m=\u001b[0m \u001b[0;32mFalse\u001b[0m\u001b[0;34m\u001b[0m\u001b[0m\n\u001b[0;32m--> 314\u001b[0;31m                 \u001b[0mdata\u001b[0m \u001b[0;34m=\u001b[0m \u001b[0mself\u001b[0m\u001b[0;34m.\u001b[0m\u001b[0m_fp\u001b[0m\u001b[0;34m.\u001b[0m\u001b[0mread\u001b[0m\u001b[0;34m(\u001b[0m\u001b[0mamt\u001b[0m\u001b[0;34m)\u001b[0m\u001b[0;34m\u001b[0m\u001b[0m\n\u001b[0m\u001b[1;32m    315\u001b[0m                 \u001b[0;32mif\u001b[0m \u001b[0mamt\u001b[0m \u001b[0;34m!=\u001b[0m \u001b[0;36m0\u001b[0m \u001b[0;32mand\u001b[0m \u001b[0;32mnot\u001b[0m \u001b[0mdata\u001b[0m\u001b[0;34m:\u001b[0m  \u001b[0;31m# Platform-specific: Buggy versions of Python.\u001b[0m\u001b[0;34m\u001b[0m\u001b[0m\n\u001b[1;32m    316\u001b[0m                     \u001b[0;31m# Close the connection when no data is returned\u001b[0m\u001b[0;34m\u001b[0m\u001b[0;34m\u001b[0m\u001b[0m\n",
      "\u001b[0;32m/home/desenvolvedor/anaconda3/lib/python3.5/http/client.py\u001b[0m in \u001b[0;36mread\u001b[0;34m(self, amt)\u001b[0m\n\u001b[1;32m    446\u001b[0m             \u001b[0;31m# Amount is given, implement using readinto\u001b[0m\u001b[0;34m\u001b[0m\u001b[0;34m\u001b[0m\u001b[0m\n\u001b[1;32m    447\u001b[0m             \u001b[0mb\u001b[0m \u001b[0;34m=\u001b[0m \u001b[0mbytearray\u001b[0m\u001b[0;34m(\u001b[0m\u001b[0mamt\u001b[0m\u001b[0;34m)\u001b[0m\u001b[0;34m\u001b[0m\u001b[0m\n\u001b[0;32m--> 448\u001b[0;31m             \u001b[0mn\u001b[0m \u001b[0;34m=\u001b[0m \u001b[0mself\u001b[0m\u001b[0;34m.\u001b[0m\u001b[0mreadinto\u001b[0m\u001b[0;34m(\u001b[0m\u001b[0mb\u001b[0m\u001b[0;34m)\u001b[0m\u001b[0;34m\u001b[0m\u001b[0m\n\u001b[0m\u001b[1;32m    449\u001b[0m             \u001b[0;32mreturn\u001b[0m \u001b[0mmemoryview\u001b[0m\u001b[0;34m(\u001b[0m\u001b[0mb\u001b[0m\u001b[0;34m)\u001b[0m\u001b[0;34m[\u001b[0m\u001b[0;34m:\u001b[0m\u001b[0mn\u001b[0m\u001b[0;34m]\u001b[0m\u001b[0;34m.\u001b[0m\u001b[0mtobytes\u001b[0m\u001b[0;34m(\u001b[0m\u001b[0;34m)\u001b[0m\u001b[0;34m\u001b[0m\u001b[0m\n\u001b[1;32m    450\u001b[0m         \u001b[0;32melse\u001b[0m\u001b[0;34m:\u001b[0m\u001b[0;34m\u001b[0m\u001b[0m\n",
      "\u001b[0;32m/home/desenvolvedor/anaconda3/lib/python3.5/http/client.py\u001b[0m in \u001b[0;36mreadinto\u001b[0;34m(self, b)\u001b[0m\n\u001b[1;32m    476\u001b[0m \u001b[0;34m\u001b[0m\u001b[0m\n\u001b[1;32m    477\u001b[0m         \u001b[0;32mif\u001b[0m \u001b[0mself\u001b[0m\u001b[0;34m.\u001b[0m\u001b[0mchunked\u001b[0m\u001b[0;34m:\u001b[0m\u001b[0;34m\u001b[0m\u001b[0m\n\u001b[0;32m--> 478\u001b[0;31m             \u001b[0;32mreturn\u001b[0m \u001b[0mself\u001b[0m\u001b[0;34m.\u001b[0m\u001b[0m_readinto_chunked\u001b[0m\u001b[0;34m(\u001b[0m\u001b[0mb\u001b[0m\u001b[0;34m)\u001b[0m\u001b[0;34m\u001b[0m\u001b[0m\n\u001b[0m\u001b[1;32m    479\u001b[0m \u001b[0;34m\u001b[0m\u001b[0m\n\u001b[1;32m    480\u001b[0m         \u001b[0;32mif\u001b[0m \u001b[0mself\u001b[0m\u001b[0;34m.\u001b[0m\u001b[0mlength\u001b[0m \u001b[0;32mis\u001b[0m \u001b[0;32mnot\u001b[0m \u001b[0;32mNone\u001b[0m\u001b[0;34m:\u001b[0m\u001b[0;34m\u001b[0m\u001b[0m\n",
      "\u001b[0;32m/home/desenvolvedor/anaconda3/lib/python3.5/http/client.py\u001b[0m in \u001b[0;36m_readinto_chunked\u001b[0;34m(self, b)\u001b[0m\n\u001b[1;32m    571\u001b[0m         \u001b[0;32mtry\u001b[0m\u001b[0;34m:\u001b[0m\u001b[0;34m\u001b[0m\u001b[0m\n\u001b[1;32m    572\u001b[0m             \u001b[0;32mwhile\u001b[0m \u001b[0;32mTrue\u001b[0m\u001b[0;34m:\u001b[0m\u001b[0;34m\u001b[0m\u001b[0m\n\u001b[0;32m--> 573\u001b[0;31m                 \u001b[0mchunk_left\u001b[0m \u001b[0;34m=\u001b[0m \u001b[0mself\u001b[0m\u001b[0;34m.\u001b[0m\u001b[0m_get_chunk_left\u001b[0m\u001b[0;34m(\u001b[0m\u001b[0;34m)\u001b[0m\u001b[0;34m\u001b[0m\u001b[0m\n\u001b[0m\u001b[1;32m    574\u001b[0m                 \u001b[0;32mif\u001b[0m \u001b[0mchunk_left\u001b[0m \u001b[0;32mis\u001b[0m \u001b[0;32mNone\u001b[0m\u001b[0;34m:\u001b[0m\u001b[0;34m\u001b[0m\u001b[0m\n\u001b[1;32m    575\u001b[0m                     \u001b[0;32mreturn\u001b[0m \u001b[0mtotal_bytes\u001b[0m\u001b[0;34m\u001b[0m\u001b[0m\n",
      "\u001b[0;32m/home/desenvolvedor/anaconda3/lib/python3.5/http/client.py\u001b[0m in \u001b[0;36m_get_chunk_left\u001b[0;34m(self)\u001b[0m\n\u001b[1;32m    539\u001b[0m                 \u001b[0mself\u001b[0m\u001b[0;34m.\u001b[0m\u001b[0m_safe_read\u001b[0m\u001b[0;34m(\u001b[0m\u001b[0;36m2\u001b[0m\u001b[0;34m)\u001b[0m  \u001b[0;31m# toss the CRLF at the end of the chunk\u001b[0m\u001b[0;34m\u001b[0m\u001b[0m\n\u001b[1;32m    540\u001b[0m             \u001b[0;32mtry\u001b[0m\u001b[0;34m:\u001b[0m\u001b[0;34m\u001b[0m\u001b[0m\n\u001b[0;32m--> 541\u001b[0;31m                 \u001b[0mchunk_left\u001b[0m \u001b[0;34m=\u001b[0m \u001b[0mself\u001b[0m\u001b[0;34m.\u001b[0m\u001b[0m_read_next_chunk_size\u001b[0m\u001b[0;34m(\u001b[0m\u001b[0;34m)\u001b[0m\u001b[0;34m\u001b[0m\u001b[0m\n\u001b[0m\u001b[1;32m    542\u001b[0m             \u001b[0;32mexcept\u001b[0m \u001b[0mValueError\u001b[0m\u001b[0;34m:\u001b[0m\u001b[0;34m\u001b[0m\u001b[0m\n\u001b[1;32m    543\u001b[0m                 \u001b[0;32mraise\u001b[0m \u001b[0mIncompleteRead\u001b[0m\u001b[0;34m(\u001b[0m\u001b[0;34mb''\u001b[0m\u001b[0;34m)\u001b[0m\u001b[0;34m\u001b[0m\u001b[0m\n",
      "\u001b[0;32m/home/desenvolvedor/anaconda3/lib/python3.5/http/client.py\u001b[0m in \u001b[0;36m_read_next_chunk_size\u001b[0;34m(self)\u001b[0m\n\u001b[1;32m    499\u001b[0m     \u001b[0;32mdef\u001b[0m \u001b[0m_read_next_chunk_size\u001b[0m\u001b[0;34m(\u001b[0m\u001b[0mself\u001b[0m\u001b[0;34m)\u001b[0m\u001b[0;34m:\u001b[0m\u001b[0;34m\u001b[0m\u001b[0m\n\u001b[1;32m    500\u001b[0m         \u001b[0;31m# Read the next chunk size from the file\u001b[0m\u001b[0;34m\u001b[0m\u001b[0;34m\u001b[0m\u001b[0m\n\u001b[0;32m--> 501\u001b[0;31m         \u001b[0mline\u001b[0m \u001b[0;34m=\u001b[0m \u001b[0mself\u001b[0m\u001b[0;34m.\u001b[0m\u001b[0mfp\u001b[0m\u001b[0;34m.\u001b[0m\u001b[0mreadline\u001b[0m\u001b[0;34m(\u001b[0m\u001b[0m_MAXLINE\u001b[0m \u001b[0;34m+\u001b[0m \u001b[0;36m1\u001b[0m\u001b[0;34m)\u001b[0m\u001b[0;34m\u001b[0m\u001b[0m\n\u001b[0m\u001b[1;32m    502\u001b[0m         \u001b[0;32mif\u001b[0m \u001b[0mlen\u001b[0m\u001b[0;34m(\u001b[0m\u001b[0mline\u001b[0m\u001b[0;34m)\u001b[0m \u001b[0;34m>\u001b[0m \u001b[0m_MAXLINE\u001b[0m\u001b[0;34m:\u001b[0m\u001b[0;34m\u001b[0m\u001b[0m\n\u001b[1;32m    503\u001b[0m             \u001b[0;32mraise\u001b[0m \u001b[0mLineTooLong\u001b[0m\u001b[0;34m(\u001b[0m\u001b[0;34m\"chunk size\"\u001b[0m\u001b[0;34m)\u001b[0m\u001b[0;34m\u001b[0m\u001b[0m\n",
      "\u001b[0;32m/home/desenvolvedor/anaconda3/lib/python3.5/socket.py\u001b[0m in \u001b[0;36mreadinto\u001b[0;34m(self, b)\u001b[0m\n\u001b[1;32m    573\u001b[0m         \u001b[0;32mwhile\u001b[0m \u001b[0;32mTrue\u001b[0m\u001b[0;34m:\u001b[0m\u001b[0;34m\u001b[0m\u001b[0m\n\u001b[1;32m    574\u001b[0m             \u001b[0;32mtry\u001b[0m\u001b[0;34m:\u001b[0m\u001b[0;34m\u001b[0m\u001b[0m\n\u001b[0;32m--> 575\u001b[0;31m                 \u001b[0;32mreturn\u001b[0m \u001b[0mself\u001b[0m\u001b[0;34m.\u001b[0m\u001b[0m_sock\u001b[0m\u001b[0;34m.\u001b[0m\u001b[0mrecv_into\u001b[0m\u001b[0;34m(\u001b[0m\u001b[0mb\u001b[0m\u001b[0;34m)\u001b[0m\u001b[0;34m\u001b[0m\u001b[0m\n\u001b[0m\u001b[1;32m    576\u001b[0m             \u001b[0;32mexcept\u001b[0m \u001b[0mtimeout\u001b[0m\u001b[0;34m:\u001b[0m\u001b[0;34m\u001b[0m\u001b[0m\n\u001b[1;32m    577\u001b[0m                 \u001b[0mself\u001b[0m\u001b[0;34m.\u001b[0m\u001b[0m_timeout_occurred\u001b[0m \u001b[0;34m=\u001b[0m \u001b[0;32mTrue\u001b[0m\u001b[0;34m\u001b[0m\u001b[0m\n",
      "\u001b[0;32m/home/desenvolvedor/anaconda3/lib/python3.5/ssl.py\u001b[0m in \u001b[0;36mrecv_into\u001b[0;34m(self, buffer, nbytes, flags)\u001b[0m\n\u001b[1;32m    927\u001b[0m                   \u001b[0;34m\"non-zero flags not allowed in calls to recv_into() on %s\"\u001b[0m \u001b[0;34m%\u001b[0m\u001b[0;34m\u001b[0m\u001b[0m\n\u001b[1;32m    928\u001b[0m                   self.__class__)\n\u001b[0;32m--> 929\u001b[0;31m             \u001b[0;32mreturn\u001b[0m \u001b[0mself\u001b[0m\u001b[0;34m.\u001b[0m\u001b[0mread\u001b[0m\u001b[0;34m(\u001b[0m\u001b[0mnbytes\u001b[0m\u001b[0;34m,\u001b[0m \u001b[0mbuffer\u001b[0m\u001b[0;34m)\u001b[0m\u001b[0;34m\u001b[0m\u001b[0m\n\u001b[0m\u001b[1;32m    930\u001b[0m         \u001b[0;32melse\u001b[0m\u001b[0;34m:\u001b[0m\u001b[0;34m\u001b[0m\u001b[0m\n\u001b[1;32m    931\u001b[0m             \u001b[0;32mreturn\u001b[0m \u001b[0msocket\u001b[0m\u001b[0;34m.\u001b[0m\u001b[0mrecv_into\u001b[0m\u001b[0;34m(\u001b[0m\u001b[0mself\u001b[0m\u001b[0;34m,\u001b[0m \u001b[0mbuffer\u001b[0m\u001b[0;34m,\u001b[0m \u001b[0mnbytes\u001b[0m\u001b[0;34m,\u001b[0m \u001b[0mflags\u001b[0m\u001b[0;34m)\u001b[0m\u001b[0;34m\u001b[0m\u001b[0m\n",
      "\u001b[0;32m/home/desenvolvedor/anaconda3/lib/python3.5/ssl.py\u001b[0m in \u001b[0;36mread\u001b[0;34m(self, len, buffer)\u001b[0m\n\u001b[1;32m    789\u001b[0m             \u001b[0;32mraise\u001b[0m \u001b[0mValueError\u001b[0m\u001b[0;34m(\u001b[0m\u001b[0;34m\"Read on closed or unwrapped SSL socket.\"\u001b[0m\u001b[0;34m)\u001b[0m\u001b[0;34m\u001b[0m\u001b[0m\n\u001b[1;32m    790\u001b[0m         \u001b[0;32mtry\u001b[0m\u001b[0;34m:\u001b[0m\u001b[0;34m\u001b[0m\u001b[0m\n\u001b[0;32m--> 791\u001b[0;31m             \u001b[0;32mreturn\u001b[0m \u001b[0mself\u001b[0m\u001b[0;34m.\u001b[0m\u001b[0m_sslobj\u001b[0m\u001b[0;34m.\u001b[0m\u001b[0mread\u001b[0m\u001b[0;34m(\u001b[0m\u001b[0mlen\u001b[0m\u001b[0;34m,\u001b[0m \u001b[0mbuffer\u001b[0m\u001b[0;34m)\u001b[0m\u001b[0;34m\u001b[0m\u001b[0m\n\u001b[0m\u001b[1;32m    792\u001b[0m         \u001b[0;32mexcept\u001b[0m \u001b[0mSSLError\u001b[0m \u001b[0;32mas\u001b[0m \u001b[0mx\u001b[0m\u001b[0;34m:\u001b[0m\u001b[0;34m\u001b[0m\u001b[0m\n\u001b[1;32m    793\u001b[0m             \u001b[0;32mif\u001b[0m \u001b[0mx\u001b[0m\u001b[0;34m.\u001b[0m\u001b[0margs\u001b[0m\u001b[0;34m[\u001b[0m\u001b[0;36m0\u001b[0m\u001b[0;34m]\u001b[0m \u001b[0;34m==\u001b[0m \u001b[0mSSL_ERROR_EOF\u001b[0m \u001b[0;32mand\u001b[0m \u001b[0mself\u001b[0m\u001b[0;34m.\u001b[0m\u001b[0msuppress_ragged_eofs\u001b[0m\u001b[0;34m:\u001b[0m\u001b[0;34m\u001b[0m\u001b[0m\n",
      "\u001b[0;32m/home/desenvolvedor/anaconda3/lib/python3.5/ssl.py\u001b[0m in \u001b[0;36mread\u001b[0;34m(self, len, buffer)\u001b[0m\n\u001b[1;32m    573\u001b[0m         \"\"\"\n\u001b[1;32m    574\u001b[0m         \u001b[0;32mif\u001b[0m \u001b[0mbuffer\u001b[0m \u001b[0;32mis\u001b[0m \u001b[0;32mnot\u001b[0m \u001b[0;32mNone\u001b[0m\u001b[0;34m:\u001b[0m\u001b[0;34m\u001b[0m\u001b[0m\n\u001b[0;32m--> 575\u001b[0;31m             \u001b[0mv\u001b[0m \u001b[0;34m=\u001b[0m \u001b[0mself\u001b[0m\u001b[0;34m.\u001b[0m\u001b[0m_sslobj\u001b[0m\u001b[0;34m.\u001b[0m\u001b[0mread\u001b[0m\u001b[0;34m(\u001b[0m\u001b[0mlen\u001b[0m\u001b[0;34m,\u001b[0m \u001b[0mbuffer\u001b[0m\u001b[0;34m)\u001b[0m\u001b[0;34m\u001b[0m\u001b[0m\n\u001b[0m\u001b[1;32m    576\u001b[0m         \u001b[0;32melse\u001b[0m\u001b[0;34m:\u001b[0m\u001b[0;34m\u001b[0m\u001b[0m\n\u001b[1;32m    577\u001b[0m             \u001b[0mv\u001b[0m \u001b[0;34m=\u001b[0m \u001b[0mself\u001b[0m\u001b[0;34m.\u001b[0m\u001b[0m_sslobj\u001b[0m\u001b[0;34m.\u001b[0m\u001b[0mread\u001b[0m\u001b[0;34m(\u001b[0m\u001b[0mlen\u001b[0m\u001b[0;34m)\u001b[0m\u001b[0;34m\u001b[0m\u001b[0m\n",
      "\u001b[0;31mKeyboardInterrupt\u001b[0m: "
     ]
    }
   ],
   "source": [
    "mystream.filter(track = keywords)"
   ]
  },
  {
   "cell_type": "code",
   "execution_count": 19,
   "metadata": {
    "collapsed": false
   },
   "outputs": [
    {
     "name": "stdout",
     "output_type": "stream",
     "text": [
      "[{'created_at': 'Wed Oct 19 02:10:37 +0000 2016', 'text': \"RT @dvilela13: Bora subir TT's \\n\\nHoje tem Galo\"}, {'created_at': 'Wed Oct 19 02:10:38 +0000 2016', 'text': 'RT @matheus13fag: Hoje não Posso, Hoje tem Jogo Do Galo!!👏💪🐔'}, {'created_at': 'Wed Oct 19 02:10:38 +0000 2016', 'text': 'RT @_GaloDoido_: HOJE TEM GALO! Classificar é fundamental. A maior chance de título no ano é a Copa do Brasil, então vamos em busca!'}, {'created_at': 'Wed Oct 19 02:10:38 +0000 2016', 'text': 'stileira do galo hj em dia é surreal'}, {'created_at': 'Wed Oct 19 02:10:38 +0000 2016', 'text': 'RT @Gabriel_bran: HOJE TEM GALO, CARALHO!!'}, {'created_at': 'Wed Oct 19 02:10:38 +0000 2016', 'text': 'RT @SomosDeporteSN: #UFC Ronda Rousey volverá al ruedo. El próximo 30 de diciembre regresará y peleará ante Amanda Nunes.'}, {'created_at': 'Wed Oct 19 02:10:39 +0000 2016', 'text': 'RT @lucasgermano94: Hoje tem GALO... Mas se jogar o mesmo primeiro tempo como foi contra o Botafogo vocês podem escrever: VAI SER ELIMINADO…'}, {'created_at': 'Wed Oct 19 02:10:41 +0000 2016', 'text': 'RT @juubssm: Hoje tem galo'}, {'created_at': 'Wed Oct 19 02:10:42 +0000 2016', 'text': 'RT @ALE_PARMERA99: Hoje tem galo pé e muita cerveja, na Confraria Palestrina.'}, {'created_at': 'Wed Oct 19 02:10:42 +0000 2016', 'text': 'Dern Won By RNC. #fight #legacy #legends #warriors #gladiators #ufc #wmma #bjj #… https://t.co/NEn1y24sc9 https://t.co/0GK7d7Vh8z'}, {'created_at': 'Wed Oct 19 02:10:45 +0000 2016', 'text': 'RT @leonamalfredo: Feliz porque hoje tem Galo 🙏🏼❤️🐔'}, {'created_at': 'Wed Oct 19 02:10:45 +0000 2016', 'text': 'RT @melmmcs: Cada um tem o Cristo que merece: Crivella negou o Garotinho três vezes antes do galo cantar!\\n#Freixo50 #FreixoNaRedeTV'}, {'created_at': 'Wed Oct 19 02:10:45 +0000 2016', 'text': 'TL em dia de jogo do Galo ❤️'}, {'created_at': 'Wed Oct 19 02:10:46 +0000 2016', 'text': 'RT @dabzeiro777: O IMPORTANTE É QUE HOJE TEM GALO CARAAIOOOOO !!!'}, {'created_at': 'Wed Oct 19 02:10:46 +0000 2016', 'text': 'RT @millerjunio: HOJE TEM GALO POHA 🐓⚫⚪'}, {'created_at': 'Wed Oct 19 02:10:47 +0000 2016', 'text': 'RT @UFCONFOX: Dana White says Ronda Rousey vs. Cris Cyborg will still be the biggest fight in UFC history\\nhttps://t.co/HSs25N1ke3… '}, {'created_at': 'Wed Oct 19 02:10:48 +0000 2016', 'text': 'RT @anninhatorres_: HOJE TEM GALO NENÉM'}, {'created_at': 'Wed Oct 19 02:10:50 +0000 2016', 'text': 'RT @guimbaherinque: Hoje tem Galo'}, {'created_at': 'Wed Oct 19 02:10:50 +0000 2016', 'text': 'RT @Minellegalo13: Eu dormindo...Hoje tem GALO!!!🐓 https://t.co/f8bJm8oSla'}, {'created_at': 'Wed Oct 19 02:10:50 +0000 2016', 'text': 'RT @Robin_hlm: HOJE TEM GALO NENÉM ❤🐓🎈⚽'}, {'created_at': 'Wed Oct 19 02:10:51 +0000 2016', 'text': 'RT @millerjunio: HOJE TEM GALO POHA 🐓⚫⚪'}, {'created_at': 'Wed Oct 19 02:10:53 +0000 2016', 'text': 'RT @theus1908: HOJE TEM GALO NOIS TÁ FELIZ POR DEMAIS'}, {'created_at': 'Wed Oct 19 02:10:53 +0000 2016', 'text': 'If Rhonda beats Nunez, because if she loses expect another disappearing act. #ufc #mma https://t.co/ZyIQ2aPzHb'}, {'created_at': 'Wed Oct 19 02:10:54 +0000 2016', 'text': 'Qnd eu era menor era cada ufc c minha irmã mais velha hj n sei quem tem mais dor'}, {'created_at': 'Wed Oct 19 02:10:55 +0000 2016', 'text': 'RT @APaaauli: Hágalo por su salud:\\n          DEJE DE SUPONER'}, {'created_at': 'Wed Oct 19 02:10:56 +0000 2016', 'text': '@PastorMalafaia hoje tem #Galo'}, {'created_at': 'Wed Oct 19 02:10:57 +0000 2016', 'text': 'RT @alynenbarbosa: Hoje tem Galo  ❤'}, {'created_at': 'Wed Oct 19 02:10:57 +0000 2016', 'text': 'RT @dvilela13: Hoje tem Galo !!!!!!!!'}, {'created_at': 'Wed Oct 19 02:10:59 +0000 2016', 'text': \"RT @ufc: What's a card in Sacramento without The California Kid?! @UrijahFaber meets @One_Punch at #UFCSacramento ➡️… \"}, {'created_at': 'Wed Oct 19 02:10:59 +0000 2016', 'text': 'RT @uainandaa: hoje tem Galo e nada mais importa, à não ser a classificação'}, {'created_at': 'Wed Oct 19 02:10:59 +0000 2016', 'text': '#놀며돈벌기［#돈빨리모으는방법］［#인터넷슬롯머신］［#필리핀자유여행］［#증권회사］ #시장위험 ［#삼성선물자소서］［#에이스갤러퍼］ ［#ufc실시간중계］앉아휘경'}, {'created_at': 'Wed Oct 19 02:10:59 +0000 2016', 'text': 'RT @Larissa_vcd: Hoje tem Galo, porra!!! #VamuGalo 🐔🙏🏻'}, {'created_at': 'Wed Oct 19 02:11:01 +0000 2016', 'text': 'RT @BrunoChain13: E hoje tem Galo, Brother, e é isso que importa!'}, {'created_at': 'Wed Oct 19 02:11:01 +0000 2016', 'text': 'RT @ind_peres01: Abençoado seja o CLUBE ATLÉTICO MINEIRO 🐓❤ HOJE TEM GALO BB'}, {'created_at': 'Wed Oct 19 02:11:01 +0000 2016', 'text': 'RT @gabriel_lessa13: Hj tem Galo e nois ta como  #VamuGalo🐔🙏🏽 https://t.co/4200HoKHhb'}, {'created_at': 'Wed Oct 19 02:11:02 +0000 2016', 'text': '@Huevanator @ufc .l. vete ala verga @Huevanator'}, {'created_at': 'Wed Oct 19 02:11:02 +0000 2016', 'text': 'RT @itscartola: HOJE TEM GALO ! 🐔❤️😍'}, {'created_at': 'Wed Oct 19 02:11:02 +0000 2016', 'text': 'RT @Dudinhah13: HOJE TEM GALO 🙌❤🐓🙏'}]\n"
     ]
    }
   ],
   "source": [
    "dataset = [{\"created_at\": item[\"created_at\"],\"text\": item[\"text\"],} for item in col.find()]"
   ]
  },
  {
   "cell_type": "code",
   "execution_count": 21,
   "metadata": {
    "collapsed": true
   },
   "outputs": [],
   "source": [
    "import pandas as pd"
   ]
  },
  {
   "cell_type": "code",
   "execution_count": 23,
   "metadata": {
    "collapsed": true
   },
   "outputs": [],
   "source": [
    "df = pd.DataFrame(dataset)"
   ]
  },
  {
   "cell_type": "code",
   "execution_count": 24,
   "metadata": {
    "collapsed": false
   },
   "outputs": [
    {
     "data": {
      "text/html": [
       "<div>\n",
       "<table border=\"1\" class=\"dataframe\">\n",
       "  <thead>\n",
       "    <tr style=\"text-align: right;\">\n",
       "      <th></th>\n",
       "      <th>created_at</th>\n",
       "      <th>text</th>\n",
       "    </tr>\n",
       "  </thead>\n",
       "  <tbody>\n",
       "    <tr>\n",
       "      <th>0</th>\n",
       "      <td>Wed Oct 19 02:10:37 +0000 2016</td>\n",
       "      <td>RT @dvilela13: Bora subir TT's \\n\\nHoje tem Galo</td>\n",
       "    </tr>\n",
       "    <tr>\n",
       "      <th>1</th>\n",
       "      <td>Wed Oct 19 02:10:38 +0000 2016</td>\n",
       "      <td>RT @matheus13fag: Hoje não Posso, Hoje tem Jog...</td>\n",
       "    </tr>\n",
       "    <tr>\n",
       "      <th>2</th>\n",
       "      <td>Wed Oct 19 02:10:38 +0000 2016</td>\n",
       "      <td>RT @_GaloDoido_: HOJE TEM GALO! Classificar é ...</td>\n",
       "    </tr>\n",
       "    <tr>\n",
       "      <th>3</th>\n",
       "      <td>Wed Oct 19 02:10:38 +0000 2016</td>\n",
       "      <td>stileira do galo hj em dia é surreal</td>\n",
       "    </tr>\n",
       "    <tr>\n",
       "      <th>4</th>\n",
       "      <td>Wed Oct 19 02:10:38 +0000 2016</td>\n",
       "      <td>RT @Gabriel_bran: HOJE TEM GALO, CARALHO!!</td>\n",
       "    </tr>\n",
       "    <tr>\n",
       "      <th>5</th>\n",
       "      <td>Wed Oct 19 02:10:38 +0000 2016</td>\n",
       "      <td>RT @SomosDeporteSN: #UFC Ronda Rousey volverá ...</td>\n",
       "    </tr>\n",
       "    <tr>\n",
       "      <th>6</th>\n",
       "      <td>Wed Oct 19 02:10:39 +0000 2016</td>\n",
       "      <td>RT @lucasgermano94: Hoje tem GALO... Mas se jo...</td>\n",
       "    </tr>\n",
       "    <tr>\n",
       "      <th>7</th>\n",
       "      <td>Wed Oct 19 02:10:41 +0000 2016</td>\n",
       "      <td>RT @juubssm: Hoje tem galo</td>\n",
       "    </tr>\n",
       "    <tr>\n",
       "      <th>8</th>\n",
       "      <td>Wed Oct 19 02:10:42 +0000 2016</td>\n",
       "      <td>RT @ALE_PARMERA99: Hoje tem galo pé e muita ce...</td>\n",
       "    </tr>\n",
       "    <tr>\n",
       "      <th>9</th>\n",
       "      <td>Wed Oct 19 02:10:42 +0000 2016</td>\n",
       "      <td>Dern Won By RNC. #fight #legacy #legends #warr...</td>\n",
       "    </tr>\n",
       "    <tr>\n",
       "      <th>10</th>\n",
       "      <td>Wed Oct 19 02:10:45 +0000 2016</td>\n",
       "      <td>RT @leonamalfredo: Feliz porque hoje tem Galo ...</td>\n",
       "    </tr>\n",
       "    <tr>\n",
       "      <th>11</th>\n",
       "      <td>Wed Oct 19 02:10:45 +0000 2016</td>\n",
       "      <td>RT @melmmcs: Cada um tem o Cristo que merece: ...</td>\n",
       "    </tr>\n",
       "    <tr>\n",
       "      <th>12</th>\n",
       "      <td>Wed Oct 19 02:10:45 +0000 2016</td>\n",
       "      <td>TL em dia de jogo do Galo ❤️</td>\n",
       "    </tr>\n",
       "    <tr>\n",
       "      <th>13</th>\n",
       "      <td>Wed Oct 19 02:10:46 +0000 2016</td>\n",
       "      <td>RT @dabzeiro777: O IMPORTANTE É QUE HOJE TEM G...</td>\n",
       "    </tr>\n",
       "    <tr>\n",
       "      <th>14</th>\n",
       "      <td>Wed Oct 19 02:10:46 +0000 2016</td>\n",
       "      <td>RT @millerjunio: HOJE TEM GALO POHA 🐓⚫⚪</td>\n",
       "    </tr>\n",
       "    <tr>\n",
       "      <th>15</th>\n",
       "      <td>Wed Oct 19 02:10:47 +0000 2016</td>\n",
       "      <td>RT @UFCONFOX: Dana White says Ronda Rousey vs....</td>\n",
       "    </tr>\n",
       "    <tr>\n",
       "      <th>16</th>\n",
       "      <td>Wed Oct 19 02:10:48 +0000 2016</td>\n",
       "      <td>RT @anninhatorres_: HOJE TEM GALO NENÉM</td>\n",
       "    </tr>\n",
       "    <tr>\n",
       "      <th>17</th>\n",
       "      <td>Wed Oct 19 02:10:50 +0000 2016</td>\n",
       "      <td>RT @guimbaherinque: Hoje tem Galo</td>\n",
       "    </tr>\n",
       "    <tr>\n",
       "      <th>18</th>\n",
       "      <td>Wed Oct 19 02:10:50 +0000 2016</td>\n",
       "      <td>RT @Minellegalo13: Eu dormindo...Hoje tem GALO...</td>\n",
       "    </tr>\n",
       "    <tr>\n",
       "      <th>19</th>\n",
       "      <td>Wed Oct 19 02:10:50 +0000 2016</td>\n",
       "      <td>RT @Robin_hlm: HOJE TEM GALO NENÉM ❤🐓🎈⚽</td>\n",
       "    </tr>\n",
       "    <tr>\n",
       "      <th>20</th>\n",
       "      <td>Wed Oct 19 02:10:51 +0000 2016</td>\n",
       "      <td>RT @millerjunio: HOJE TEM GALO POHA 🐓⚫⚪</td>\n",
       "    </tr>\n",
       "    <tr>\n",
       "      <th>21</th>\n",
       "      <td>Wed Oct 19 02:10:53 +0000 2016</td>\n",
       "      <td>RT @theus1908: HOJE TEM GALO NOIS TÁ FELIZ POR...</td>\n",
       "    </tr>\n",
       "    <tr>\n",
       "      <th>22</th>\n",
       "      <td>Wed Oct 19 02:10:53 +0000 2016</td>\n",
       "      <td>If Rhonda beats Nunez, because if she loses ex...</td>\n",
       "    </tr>\n",
       "    <tr>\n",
       "      <th>23</th>\n",
       "      <td>Wed Oct 19 02:10:54 +0000 2016</td>\n",
       "      <td>Qnd eu era menor era cada ufc c minha irmã mai...</td>\n",
       "    </tr>\n",
       "    <tr>\n",
       "      <th>24</th>\n",
       "      <td>Wed Oct 19 02:10:55 +0000 2016</td>\n",
       "      <td>RT @APaaauli: Hágalo por su salud:\\n          ...</td>\n",
       "    </tr>\n",
       "    <tr>\n",
       "      <th>25</th>\n",
       "      <td>Wed Oct 19 02:10:56 +0000 2016</td>\n",
       "      <td>@PastorMalafaia hoje tem #Galo</td>\n",
       "    </tr>\n",
       "    <tr>\n",
       "      <th>26</th>\n",
       "      <td>Wed Oct 19 02:10:57 +0000 2016</td>\n",
       "      <td>RT @alynenbarbosa: Hoje tem Galo  ❤</td>\n",
       "    </tr>\n",
       "    <tr>\n",
       "      <th>27</th>\n",
       "      <td>Wed Oct 19 02:10:57 +0000 2016</td>\n",
       "      <td>RT @dvilela13: Hoje tem Galo !!!!!!!!</td>\n",
       "    </tr>\n",
       "    <tr>\n",
       "      <th>28</th>\n",
       "      <td>Wed Oct 19 02:10:59 +0000 2016</td>\n",
       "      <td>RT @ufc: What's a card in Sacramento without T...</td>\n",
       "    </tr>\n",
       "    <tr>\n",
       "      <th>29</th>\n",
       "      <td>Wed Oct 19 02:10:59 +0000 2016</td>\n",
       "      <td>RT @uainandaa: hoje tem Galo e nada mais impor...</td>\n",
       "    </tr>\n",
       "    <tr>\n",
       "      <th>30</th>\n",
       "      <td>Wed Oct 19 02:10:59 +0000 2016</td>\n",
       "      <td>#놀며돈벌기［#돈빨리모으는방법］［#인터넷슬롯머신］［#필리핀자유여행］［#증권회사］ #...</td>\n",
       "    </tr>\n",
       "    <tr>\n",
       "      <th>31</th>\n",
       "      <td>Wed Oct 19 02:10:59 +0000 2016</td>\n",
       "      <td>RT @Larissa_vcd: Hoje tem Galo, porra!!! #Vamu...</td>\n",
       "    </tr>\n",
       "    <tr>\n",
       "      <th>32</th>\n",
       "      <td>Wed Oct 19 02:11:01 +0000 2016</td>\n",
       "      <td>RT @BrunoChain13: E hoje tem Galo, Brother, e ...</td>\n",
       "    </tr>\n",
       "    <tr>\n",
       "      <th>33</th>\n",
       "      <td>Wed Oct 19 02:11:01 +0000 2016</td>\n",
       "      <td>RT @ind_peres01: Abençoado seja o CLUBE ATLÉTI...</td>\n",
       "    </tr>\n",
       "    <tr>\n",
       "      <th>34</th>\n",
       "      <td>Wed Oct 19 02:11:01 +0000 2016</td>\n",
       "      <td>RT @gabriel_lessa13: Hj tem Galo e nois ta com...</td>\n",
       "    </tr>\n",
       "    <tr>\n",
       "      <th>35</th>\n",
       "      <td>Wed Oct 19 02:11:02 +0000 2016</td>\n",
       "      <td>@Huevanator @ufc .l. vete ala verga @Huevanator</td>\n",
       "    </tr>\n",
       "    <tr>\n",
       "      <th>36</th>\n",
       "      <td>Wed Oct 19 02:11:02 +0000 2016</td>\n",
       "      <td>RT @itscartola: HOJE TEM GALO ! 🐔❤️😍</td>\n",
       "    </tr>\n",
       "    <tr>\n",
       "      <th>37</th>\n",
       "      <td>Wed Oct 19 02:11:02 +0000 2016</td>\n",
       "      <td>RT @Dudinhah13: HOJE TEM GALO 🙌❤🐓🙏</td>\n",
       "    </tr>\n",
       "  </tbody>\n",
       "</table>\n",
       "</div>"
      ],
      "text/plain": [
       "                        created_at  \\\n",
       "0   Wed Oct 19 02:10:37 +0000 2016   \n",
       "1   Wed Oct 19 02:10:38 +0000 2016   \n",
       "2   Wed Oct 19 02:10:38 +0000 2016   \n",
       "3   Wed Oct 19 02:10:38 +0000 2016   \n",
       "4   Wed Oct 19 02:10:38 +0000 2016   \n",
       "5   Wed Oct 19 02:10:38 +0000 2016   \n",
       "6   Wed Oct 19 02:10:39 +0000 2016   \n",
       "7   Wed Oct 19 02:10:41 +0000 2016   \n",
       "8   Wed Oct 19 02:10:42 +0000 2016   \n",
       "9   Wed Oct 19 02:10:42 +0000 2016   \n",
       "10  Wed Oct 19 02:10:45 +0000 2016   \n",
       "11  Wed Oct 19 02:10:45 +0000 2016   \n",
       "12  Wed Oct 19 02:10:45 +0000 2016   \n",
       "13  Wed Oct 19 02:10:46 +0000 2016   \n",
       "14  Wed Oct 19 02:10:46 +0000 2016   \n",
       "15  Wed Oct 19 02:10:47 +0000 2016   \n",
       "16  Wed Oct 19 02:10:48 +0000 2016   \n",
       "17  Wed Oct 19 02:10:50 +0000 2016   \n",
       "18  Wed Oct 19 02:10:50 +0000 2016   \n",
       "19  Wed Oct 19 02:10:50 +0000 2016   \n",
       "20  Wed Oct 19 02:10:51 +0000 2016   \n",
       "21  Wed Oct 19 02:10:53 +0000 2016   \n",
       "22  Wed Oct 19 02:10:53 +0000 2016   \n",
       "23  Wed Oct 19 02:10:54 +0000 2016   \n",
       "24  Wed Oct 19 02:10:55 +0000 2016   \n",
       "25  Wed Oct 19 02:10:56 +0000 2016   \n",
       "26  Wed Oct 19 02:10:57 +0000 2016   \n",
       "27  Wed Oct 19 02:10:57 +0000 2016   \n",
       "28  Wed Oct 19 02:10:59 +0000 2016   \n",
       "29  Wed Oct 19 02:10:59 +0000 2016   \n",
       "30  Wed Oct 19 02:10:59 +0000 2016   \n",
       "31  Wed Oct 19 02:10:59 +0000 2016   \n",
       "32  Wed Oct 19 02:11:01 +0000 2016   \n",
       "33  Wed Oct 19 02:11:01 +0000 2016   \n",
       "34  Wed Oct 19 02:11:01 +0000 2016   \n",
       "35  Wed Oct 19 02:11:02 +0000 2016   \n",
       "36  Wed Oct 19 02:11:02 +0000 2016   \n",
       "37  Wed Oct 19 02:11:02 +0000 2016   \n",
       "\n",
       "                                                 text  \n",
       "0    RT @dvilela13: Bora subir TT's \\n\\nHoje tem Galo  \n",
       "1   RT @matheus13fag: Hoje não Posso, Hoje tem Jog...  \n",
       "2   RT @_GaloDoido_: HOJE TEM GALO! Classificar é ...  \n",
       "3                stileira do galo hj em dia é surreal  \n",
       "4          RT @Gabriel_bran: HOJE TEM GALO, CARALHO!!  \n",
       "5   RT @SomosDeporteSN: #UFC Ronda Rousey volverá ...  \n",
       "6   RT @lucasgermano94: Hoje tem GALO... Mas se jo...  \n",
       "7                          RT @juubssm: Hoje tem galo  \n",
       "8   RT @ALE_PARMERA99: Hoje tem galo pé e muita ce...  \n",
       "9   Dern Won By RNC. #fight #legacy #legends #warr...  \n",
       "10  RT @leonamalfredo: Feliz porque hoje tem Galo ...  \n",
       "11  RT @melmmcs: Cada um tem o Cristo que merece: ...  \n",
       "12                       TL em dia de jogo do Galo ❤️  \n",
       "13  RT @dabzeiro777: O IMPORTANTE É QUE HOJE TEM G...  \n",
       "14            RT @millerjunio: HOJE TEM GALO POHA 🐓⚫⚪  \n",
       "15  RT @UFCONFOX: Dana White says Ronda Rousey vs....  \n",
       "16            RT @anninhatorres_: HOJE TEM GALO NENÉM  \n",
       "17                  RT @guimbaherinque: Hoje tem Galo  \n",
       "18  RT @Minellegalo13: Eu dormindo...Hoje tem GALO...  \n",
       "19            RT @Robin_hlm: HOJE TEM GALO NENÉM ❤🐓🎈⚽  \n",
       "20            RT @millerjunio: HOJE TEM GALO POHA 🐓⚫⚪  \n",
       "21  RT @theus1908: HOJE TEM GALO NOIS TÁ FELIZ POR...  \n",
       "22  If Rhonda beats Nunez, because if she loses ex...  \n",
       "23  Qnd eu era menor era cada ufc c minha irmã mai...  \n",
       "24  RT @APaaauli: Hágalo por su salud:\\n          ...  \n",
       "25                     @PastorMalafaia hoje tem #Galo  \n",
       "26                RT @alynenbarbosa: Hoje tem Galo  ❤  \n",
       "27              RT @dvilela13: Hoje tem Galo !!!!!!!!  \n",
       "28  RT @ufc: What's a card in Sacramento without T...  \n",
       "29  RT @uainandaa: hoje tem Galo e nada mais impor...  \n",
       "30  #놀며돈벌기［#돈빨리모으는방법］［#인터넷슬롯머신］［#필리핀자유여행］［#증권회사］ #...  \n",
       "31  RT @Larissa_vcd: Hoje tem Galo, porra!!! #Vamu...  \n",
       "32  RT @BrunoChain13: E hoje tem Galo, Brother, e ...  \n",
       "33  RT @ind_peres01: Abençoado seja o CLUBE ATLÉTI...  \n",
       "34  RT @gabriel_lessa13: Hj tem Galo e nois ta com...  \n",
       "35    @Huevanator @ufc .l. vete ala verga @Huevanator  \n",
       "36               RT @itscartola: HOJE TEM GALO ! 🐔❤️😍  \n",
       "37                 RT @Dudinhah13: HOJE TEM GALO 🙌❤🐓🙏  "
      ]
     },
     "execution_count": 24,
     "metadata": {},
     "output_type": "execute_result"
    }
   ],
   "source": [
    "df"
   ]
  }
 ],
 "metadata": {
  "anaconda-cloud": {},
  "kernelspec": {
   "display_name": "Python [conda root]",
   "language": "python",
   "name": "conda-root-py"
  },
  "language_info": {
   "codemirror_mode": {
    "name": "ipython",
    "version": 3
   },
   "file_extension": ".py",
   "mimetype": "text/x-python",
   "name": "python",
   "nbconvert_exporter": "python",
   "pygments_lexer": "ipython3",
   "version": "3.5.2"
  }
 },
 "nbformat": 4,
 "nbformat_minor": 1
}
